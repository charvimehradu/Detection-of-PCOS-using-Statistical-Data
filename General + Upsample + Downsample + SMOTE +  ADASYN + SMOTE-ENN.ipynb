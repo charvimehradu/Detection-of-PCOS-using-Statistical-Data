{
 "cells": [
  {
   "cell_type": "markdown",
   "id": "b623af24",
   "metadata": {},
   "source": [
    "# General"
   ]
  },
  {
   "cell_type": "code",
   "execution_count": 1,
   "id": "be07db25",
   "metadata": {},
   "outputs": [],
   "source": [
    "import pandas as pd \n",
    "import numpy as np\n",
    "import matplotlib.pyplot as plt\n",
    "%matplotlib inline\n",
    "import seaborn as sns\n",
    "\n",
    "from sklearn.metrics import confusion_matrix\n",
    "\n",
    "from sklearn.metrics import accuracy_score\n",
    "from sklearn.metrics import precision_score\n",
    "from sklearn.metrics import recall_score\n",
    "from sklearn.metrics import f1_score\n",
    "from sklearn.metrics import classification_report"
   ]
  },
  {
   "cell_type": "code",
   "execution_count": 2,
   "id": "9b71e0c5",
   "metadata": {},
   "outputs": [],
   "source": [
    "#loading dataset\n",
    "data = pd.read_excel(\"PCOS_data.xlsx\")"
   ]
  },
  {
   "cell_type": "code",
   "execution_count": 3,
   "id": "d362b6c8",
   "metadata": {},
   "outputs": [
    {
     "data": {
      "text/html": [
       "<div>\n",
       "<style scoped>\n",
       "    .dataframe tbody tr th:only-of-type {\n",
       "        vertical-align: middle;\n",
       "    }\n",
       "\n",
       "    .dataframe tbody tr th {\n",
       "        vertical-align: top;\n",
       "    }\n",
       "\n",
       "    .dataframe thead th {\n",
       "        text-align: right;\n",
       "    }\n",
       "</style>\n",
       "<table border=\"1\" class=\"dataframe\">\n",
       "  <thead>\n",
       "    <tr style=\"text-align: right;\">\n",
       "      <th></th>\n",
       "      <th>Sl. No</th>\n",
       "      <th>Patient File No.</th>\n",
       "      <th>PCOS (Y/N)</th>\n",
       "      <th>Age (yrs)</th>\n",
       "      <th>Weight (Kg)</th>\n",
       "      <th>Height(Cm)</th>\n",
       "      <th>BMI</th>\n",
       "      <th>Blood Group</th>\n",
       "      <th>Pulse rate(bpm)</th>\n",
       "      <th>RR (breaths/min)</th>\n",
       "      <th>...</th>\n",
       "      <th>Pimples(Y/N)</th>\n",
       "      <th>Fast food (Y/N)</th>\n",
       "      <th>Reg.Exercise(Y/N)</th>\n",
       "      <th>BP _Systolic (mmHg)</th>\n",
       "      <th>BP _Diastolic (mmHg)</th>\n",
       "      <th>Follicle No. (L)</th>\n",
       "      <th>Follicle No. (R)</th>\n",
       "      <th>Avg. F size (L) (mm)</th>\n",
       "      <th>Avg. F size (R) (mm)</th>\n",
       "      <th>Endometrium (mm)</th>\n",
       "    </tr>\n",
       "  </thead>\n",
       "  <tbody>\n",
       "    <tr>\n",
       "      <th>0</th>\n",
       "      <td>1</td>\n",
       "      <td>1</td>\n",
       "      <td>0</td>\n",
       "      <td>28</td>\n",
       "      <td>44.6</td>\n",
       "      <td>152.0</td>\n",
       "      <td>19.304017</td>\n",
       "      <td>15</td>\n",
       "      <td>78</td>\n",
       "      <td>22</td>\n",
       "      <td>...</td>\n",
       "      <td>0</td>\n",
       "      <td>1</td>\n",
       "      <td>0</td>\n",
       "      <td>110</td>\n",
       "      <td>80</td>\n",
       "      <td>3</td>\n",
       "      <td>3</td>\n",
       "      <td>18.0</td>\n",
       "      <td>18.0</td>\n",
       "      <td>8.5</td>\n",
       "    </tr>\n",
       "    <tr>\n",
       "      <th>1</th>\n",
       "      <td>2</td>\n",
       "      <td>2</td>\n",
       "      <td>0</td>\n",
       "      <td>36</td>\n",
       "      <td>65.0</td>\n",
       "      <td>161.5</td>\n",
       "      <td>24.921163</td>\n",
       "      <td>15</td>\n",
       "      <td>74</td>\n",
       "      <td>20</td>\n",
       "      <td>...</td>\n",
       "      <td>0</td>\n",
       "      <td>0</td>\n",
       "      <td>0</td>\n",
       "      <td>120</td>\n",
       "      <td>70</td>\n",
       "      <td>3</td>\n",
       "      <td>5</td>\n",
       "      <td>15.0</td>\n",
       "      <td>14.0</td>\n",
       "      <td>3.7</td>\n",
       "    </tr>\n",
       "    <tr>\n",
       "      <th>2</th>\n",
       "      <td>3</td>\n",
       "      <td>3</td>\n",
       "      <td>1</td>\n",
       "      <td>33</td>\n",
       "      <td>68.8</td>\n",
       "      <td>165.0</td>\n",
       "      <td>25.270891</td>\n",
       "      <td>11</td>\n",
       "      <td>72</td>\n",
       "      <td>18</td>\n",
       "      <td>...</td>\n",
       "      <td>1</td>\n",
       "      <td>1</td>\n",
       "      <td>0</td>\n",
       "      <td>120</td>\n",
       "      <td>80</td>\n",
       "      <td>13</td>\n",
       "      <td>15</td>\n",
       "      <td>18.0</td>\n",
       "      <td>20.0</td>\n",
       "      <td>10.0</td>\n",
       "    </tr>\n",
       "    <tr>\n",
       "      <th>3</th>\n",
       "      <td>4</td>\n",
       "      <td>4</td>\n",
       "      <td>0</td>\n",
       "      <td>37</td>\n",
       "      <td>65.0</td>\n",
       "      <td>148.0</td>\n",
       "      <td>29.674945</td>\n",
       "      <td>13</td>\n",
       "      <td>72</td>\n",
       "      <td>20</td>\n",
       "      <td>...</td>\n",
       "      <td>0</td>\n",
       "      <td>0</td>\n",
       "      <td>0</td>\n",
       "      <td>120</td>\n",
       "      <td>70</td>\n",
       "      <td>2</td>\n",
       "      <td>2</td>\n",
       "      <td>15.0</td>\n",
       "      <td>14.0</td>\n",
       "      <td>7.5</td>\n",
       "    </tr>\n",
       "    <tr>\n",
       "      <th>4</th>\n",
       "      <td>5</td>\n",
       "      <td>5</td>\n",
       "      <td>0</td>\n",
       "      <td>25</td>\n",
       "      <td>52.0</td>\n",
       "      <td>161.0</td>\n",
       "      <td>20.060954</td>\n",
       "      <td>11</td>\n",
       "      <td>72</td>\n",
       "      <td>18</td>\n",
       "      <td>...</td>\n",
       "      <td>0</td>\n",
       "      <td>0</td>\n",
       "      <td>0</td>\n",
       "      <td>120</td>\n",
       "      <td>80</td>\n",
       "      <td>3</td>\n",
       "      <td>4</td>\n",
       "      <td>16.0</td>\n",
       "      <td>14.0</td>\n",
       "      <td>7.0</td>\n",
       "    </tr>\n",
       "  </tbody>\n",
       "</table>\n",
       "<p>5 rows × 44 columns</p>\n",
       "</div>"
      ],
      "text/plain": [
       "   Sl. No  Patient File No.  PCOS (Y/N)   Age (yrs)  Weight (Kg)  Height(Cm)   \\\n",
       "0       1                 1           0          28         44.6        152.0   \n",
       "1       2                 2           0          36         65.0        161.5   \n",
       "2       3                 3           1          33         68.8        165.0   \n",
       "3       4                 4           0          37         65.0        148.0   \n",
       "4       5                 5           0          25         52.0        161.0   \n",
       "\n",
       "         BMI  Blood Group  Pulse rate(bpm)   RR (breaths/min)  ...  \\\n",
       "0  19.304017           15                78                22  ...   \n",
       "1  24.921163           15                74                20  ...   \n",
       "2  25.270891           11                72                18  ...   \n",
       "3  29.674945           13                72                20  ...   \n",
       "4  20.060954           11                72                18  ...   \n",
       "\n",
       "   Pimples(Y/N)  Fast food (Y/N)  Reg.Exercise(Y/N)  BP _Systolic (mmHg)  \\\n",
       "0             0                1                  0                  110   \n",
       "1             0                0                  0                  120   \n",
       "2             1                1                  0                  120   \n",
       "3             0                0                  0                  120   \n",
       "4             0                0                  0                  120   \n",
       "\n",
       "   BP _Diastolic (mmHg)  Follicle No. (L)  Follicle No. (R)  \\\n",
       "0                    80                 3                 3   \n",
       "1                    70                 3                 5   \n",
       "2                    80                13                15   \n",
       "3                    70                 2                 2   \n",
       "4                    80                 3                 4   \n",
       "\n",
       "   Avg. F size (L) (mm)  Avg. F size (R) (mm)  Endometrium (mm)  \n",
       "0                  18.0                  18.0               8.5  \n",
       "1                  15.0                  14.0               3.7  \n",
       "2                  18.0                  20.0              10.0  \n",
       "3                  15.0                  14.0               7.5  \n",
       "4                  16.0                  14.0               7.0  \n",
       "\n",
       "[5 rows x 44 columns]"
      ]
     },
     "execution_count": 3,
     "metadata": {},
     "output_type": "execute_result"
    }
   ],
   "source": [
    "data.head()"
   ]
  },
  {
   "cell_type": "code",
   "execution_count": 4,
   "id": "7fc1b6e1",
   "metadata": {},
   "outputs": [
    {
     "name": "stdout",
     "output_type": "stream",
     "text": [
      "<class 'pandas.core.frame.DataFrame'>\n",
      "RangeIndex: 538 entries, 0 to 537\n",
      "Data columns (total 44 columns):\n",
      " #   Column                  Non-Null Count  Dtype  \n",
      "---  ------                  --------------  -----  \n",
      " 0   Sl. No                  538 non-null    int64  \n",
      " 1   Patient File No.        538 non-null    int64  \n",
      " 2   PCOS (Y/N)              538 non-null    int64  \n",
      " 3    Age (yrs)              538 non-null    int64  \n",
      " 4   Weight (Kg)             538 non-null    float64\n",
      " 5   Height(Cm)              538 non-null    float64\n",
      " 6   BMI                     538 non-null    float64\n",
      " 7   Blood Group             538 non-null    int64  \n",
      " 8   Pulse rate(bpm)         538 non-null    int64  \n",
      " 9   RR (breaths/min)        538 non-null    int64  \n",
      " 10  Hb(g/dl)                538 non-null    float64\n",
      " 11  Cycle(R/I)              538 non-null    int64  \n",
      " 12  Cycle length(days)      538 non-null    int64  \n",
      " 13  Marraige Status (Yrs)   538 non-null    float64\n",
      " 14  Pregnant(Y/N)           538 non-null    int64  \n",
      " 15  No. of aborptions       538 non-null    int64  \n",
      " 16    I   beta-HCG(mIU/mL)  538 non-null    float64\n",
      " 17  II    beta-HCG(mIU/mL)  538 non-null    float64\n",
      " 18  FSH(mIU/mL)             538 non-null    float64\n",
      " 19  LH(mIU/mL)              538 non-null    float64\n",
      " 20  FSH/LH                  538 non-null    float64\n",
      " 21  Hip(inch)               538 non-null    int64  \n",
      " 22  Waist(inch)             538 non-null    int64  \n",
      " 23  Waist:Hip Ratio         538 non-null    float64\n",
      " 24  TSH (mIU/L)             538 non-null    float64\n",
      " 25  AMH(ng/mL)              538 non-null    float64\n",
      " 26  PRL(ng/mL)              538 non-null    float64\n",
      " 27  Vit D3 (ng/mL)          538 non-null    float64\n",
      " 28  PRG(ng/mL)              538 non-null    float64\n",
      " 29  RBS(mg/dl)              538 non-null    float64\n",
      " 30  Weight gain(Y/N)        538 non-null    int64  \n",
      " 31  hair growth(Y/N)        538 non-null    int64  \n",
      " 32  Skin darkening (Y/N)    538 non-null    int64  \n",
      " 33  Hair loss(Y/N)          538 non-null    int64  \n",
      " 34  Pimples(Y/N)            538 non-null    int64  \n",
      " 35  Fast food (Y/N)         538 non-null    int64  \n",
      " 36  Reg.Exercise(Y/N)       538 non-null    int64  \n",
      " 37  BP _Systolic (mmHg)     538 non-null    int64  \n",
      " 38  BP _Diastolic (mmHg)    538 non-null    int64  \n",
      " 39  Follicle No. (L)        538 non-null    int64  \n",
      " 40  Follicle No. (R)        538 non-null    int64  \n",
      " 41  Avg. F size (L) (mm)    538 non-null    float64\n",
      " 42  Avg. F size (R) (mm)    538 non-null    float64\n",
      " 43  Endometrium (mm)        538 non-null    float64\n",
      "dtypes: float64(20), int64(24)\n",
      "memory usage: 185.1 KB\n"
     ]
    }
   ],
   "source": [
    "data.info()"
   ]
  },
  {
   "cell_type": "code",
   "execution_count": 5,
   "id": "ba1bac82",
   "metadata": {},
   "outputs": [
    {
     "data": {
      "text/plain": [
       "Sl. No                    0\n",
       "Patient File No.          0\n",
       "PCOS (Y/N)                0\n",
       " Age (yrs)                0\n",
       "Weight (Kg)               0\n",
       "Height(Cm)                0\n",
       "BMI                       0\n",
       "Blood Group               0\n",
       "Pulse rate(bpm)           0\n",
       "RR (breaths/min)          0\n",
       "Hb(g/dl)                  0\n",
       "Cycle(R/I)                0\n",
       "Cycle length(days)        0\n",
       "Marraige Status (Yrs)     0\n",
       "Pregnant(Y/N)             0\n",
       "No. of aborptions         0\n",
       "  I   beta-HCG(mIU/mL)    0\n",
       "II    beta-HCG(mIU/mL)    0\n",
       "FSH(mIU/mL)               0\n",
       "LH(mIU/mL)                0\n",
       "FSH/LH                    0\n",
       "Hip(inch)                 0\n",
       "Waist(inch)               0\n",
       "Waist:Hip Ratio           0\n",
       "TSH (mIU/L)               0\n",
       "AMH(ng/mL)                0\n",
       "PRL(ng/mL)                0\n",
       "Vit D3 (ng/mL)            0\n",
       "PRG(ng/mL)                0\n",
       "RBS(mg/dl)                0\n",
       "Weight gain(Y/N)          0\n",
       "hair growth(Y/N)          0\n",
       "Skin darkening (Y/N)      0\n",
       "Hair loss(Y/N)            0\n",
       "Pimples(Y/N)              0\n",
       "Fast food (Y/N)           0\n",
       "Reg.Exercise(Y/N)         0\n",
       "BP _Systolic (mmHg)       0\n",
       "BP _Diastolic (mmHg)      0\n",
       "Follicle No. (L)          0\n",
       "Follicle No. (R)          0\n",
       "Avg. F size (L) (mm)      0\n",
       "Avg. F size (R) (mm)      0\n",
       "Endometrium (mm)          0\n",
       "dtype: int64"
      ]
     },
     "execution_count": 5,
     "metadata": {},
     "output_type": "execute_result"
    }
   ],
   "source": [
    "#checking to see if there's any null variables\n",
    "data.isnull().sum()"
   ]
  },
  {
   "cell_type": "code",
   "execution_count": 6,
   "id": "7c3bb91f",
   "metadata": {},
   "outputs": [
    {
     "name": "stdout",
     "output_type": "stream",
     "text": [
      "Number of rows in the dataset  :  538\n",
      "Number of Columns in the dataset :  44\n",
      "Number of Features : \n",
      " ['Sl. No', 'Patient File No.', 'PCOS (Y/N)', ' Age (yrs)', 'Weight (Kg)', 'Height(Cm) ', 'BMI', 'Blood Group', 'Pulse rate(bpm) ', 'RR (breaths/min)', 'Hb(g/dl)', 'Cycle(R/I)', 'Cycle length(days)', 'Marraige Status (Yrs)', 'Pregnant(Y/N)', 'No. of aborptions', '  I   beta-HCG(mIU/mL)', 'II    beta-HCG(mIU/mL)', 'FSH(mIU/mL)', 'LH(mIU/mL)', 'FSH/LH', 'Hip(inch)', 'Waist(inch)', 'Waist:Hip Ratio', 'TSH (mIU/L)', 'AMH(ng/mL)', 'PRL(ng/mL)', 'Vit D3 (ng/mL)', 'PRG(ng/mL)', 'RBS(mg/dl)', 'Weight gain(Y/N)', 'hair growth(Y/N)', 'Skin darkening (Y/N)', 'Hair loss(Y/N)', 'Pimples(Y/N)', 'Fast food (Y/N)', 'Reg.Exercise(Y/N)', 'BP _Systolic (mmHg)', 'BP _Diastolic (mmHg)', 'Follicle No. (L)', 'Follicle No. (R)', 'Avg. F size (L) (mm)', 'Avg. F size (R) (mm)', 'Endometrium (mm)']\n",
      "Missing values :   0\n",
      "Unique values :  \n",
      " Sl. No                    538\n",
      "Patient File No.          538\n",
      "PCOS (Y/N)                  2\n",
      " Age (yrs)                 29\n",
      "Weight (Kg)               116\n",
      "Height(Cm)                 50\n",
      "BMI                       386\n",
      "Blood Group                 8\n",
      "Pulse rate(bpm)            11\n",
      "RR (breaths/min)            8\n",
      "Hb(g/dl)                   46\n",
      "Cycle(R/I)                  3\n",
      "Cycle length(days)         12\n",
      "Marraige Status (Yrs)      34\n",
      "Pregnant(Y/N)               2\n",
      "No. of aborptions           6\n",
      "  I   beta-HCG(mIU/mL)    305\n",
      "II    beta-HCG(mIU/mL)    202\n",
      "FSH(mIU/mL)               369\n",
      "LH(mIU/mL)                342\n",
      "FSH/LH                    512\n",
      "Hip(inch)                  19\n",
      "Waist(inch)                23\n",
      "Waist:Hip Ratio            92\n",
      "TSH (mIU/L)               307\n",
      "AMH(ng/mL)                299\n",
      "PRL(ng/mL)                480\n",
      "Vit D3 (ng/mL)            331\n",
      "PRG(ng/mL)                 89\n",
      "RBS(mg/dl)                 55\n",
      "Weight gain(Y/N)            2\n",
      "hair growth(Y/N)            2\n",
      "Skin darkening (Y/N)        2\n",
      "Hair loss(Y/N)              2\n",
      "Pimples(Y/N)                2\n",
      "Fast food (Y/N)             2\n",
      "Reg.Exercise(Y/N)           2\n",
      "BP _Systolic (mmHg)         6\n",
      "BP _Diastolic (mmHg)        5\n",
      "Follicle No. (L)           21\n",
      "Follicle No. (R)           20\n",
      "Avg. F size (L) (mm)       31\n",
      "Avg. F size (R) (mm)       32\n",
      "Endometrium (mm)           91\n",
      "dtype: int64\n"
     ]
    }
   ],
   "source": [
    "print (\"Number of rows in the dataset  : \" ,data.shape[0])\n",
    "print (\"Number of Columns in the dataset : \" ,data.shape[1])\n",
    "print (\"Number of Features : \\n\" ,data.columns.tolist())\n",
    "print (\"Missing values :  \", data.isnull().sum().values.sum())\n",
    "print (\"Unique values :  \\n\",data.nunique())"
   ]
  },
  {
   "cell_type": "code",
   "execution_count": 7,
   "id": "446c0744",
   "metadata": {},
   "outputs": [
    {
     "data": {
      "text/plain": [
       "0    362\n",
       "1    176\n",
       "Name: PCOS (Y/N), dtype: int64"
      ]
     },
     "execution_count": 7,
     "metadata": {},
     "output_type": "execute_result"
    }
   ],
   "source": [
    "# Yes = 1, No = 0 \n",
    "data['PCOS (Y/N)'].value_counts()"
   ]
  },
  {
   "cell_type": "code",
   "execution_count": 8,
   "id": "3f0f1a47",
   "metadata": {},
   "outputs": [],
   "source": [
    "from sklearn.model_selection import train_test_split"
   ]
  },
  {
   "cell_type": "code",
   "execution_count": 9,
   "id": "ddc5bf44",
   "metadata": {},
   "outputs": [],
   "source": [
    "#spliting the testing and training data \n",
    "\n",
    "df = data\n",
    "df_test = df[430:]\n",
    "df_train = df[:430]\n",
    "\n",
    "#Now seperate the dataset as response variable and feature variabes\n",
    "X_test = data.drop('PCOS (Y/N)', axis = 1)\n",
    "Y_test = data['PCOS (Y/N)']"
   ]
  },
  {
   "cell_type": "code",
   "execution_count": 10,
   "id": "45052c82",
   "metadata": {},
   "outputs": [],
   "source": [
    "# Separate majority and minority classes\n",
    "df_majority = df_train[df_train['PCOS (Y/N)'] == 0]\n",
    "df_minority = df_train[df_train['PCOS (Y/N)'] == 1]"
   ]
  },
  {
   "cell_type": "code",
   "execution_count": 11,
   "id": "2403be67",
   "metadata": {},
   "outputs": [
    {
     "data": {
      "text/plain": [
       "((292, 44), (138, 44))"
      ]
     },
     "execution_count": 11,
     "metadata": {},
     "output_type": "execute_result"
    }
   ],
   "source": [
    "df_majority.shape, df_minority.shape"
   ]
  },
  {
   "cell_type": "markdown",
   "id": "de727766",
   "metadata": {},
   "source": [
    "# Upsample"
   ]
  },
  {
   "cell_type": "code",
   "execution_count": 12,
   "id": "9c5f63a6",
   "metadata": {},
   "outputs": [],
   "source": [
    "from sklearn.utils import resample"
   ]
  },
  {
   "cell_type": "code",
   "execution_count": 13,
   "id": "fdbc1876",
   "metadata": {},
   "outputs": [],
   "source": [
    "df_minority_upsampled = resample(df_minority, \n",
    "                                 replace=True,     # sample with replacement\n",
    "                                 n_samples=362,    # to match majority class #length of df_majority\n",
    "                                 random_state=123) "
   ]
  },
  {
   "cell_type": "markdown",
   "id": "a476baea",
   "metadata": {},
   "source": [
    "**Upsampling on the dataset is done for increasing the size of the minority class in the dataset.**"
   ]
  },
  {
   "cell_type": "code",
   "execution_count": 14,
   "id": "cdfbf784",
   "metadata": {},
   "outputs": [],
   "source": [
    "df_upsampled = pd.concat([df_majority, df_minority_upsampled])"
   ]
  },
  {
   "cell_type": "code",
   "execution_count": 15,
   "id": "4d730768",
   "metadata": {},
   "outputs": [
    {
     "data": {
      "text/html": [
       "<div>\n",
       "<style scoped>\n",
       "    .dataframe tbody tr th:only-of-type {\n",
       "        vertical-align: middle;\n",
       "    }\n",
       "\n",
       "    .dataframe tbody tr th {\n",
       "        vertical-align: top;\n",
       "    }\n",
       "\n",
       "    .dataframe thead th {\n",
       "        text-align: right;\n",
       "    }\n",
       "</style>\n",
       "<table border=\"1\" class=\"dataframe\">\n",
       "  <thead>\n",
       "    <tr style=\"text-align: right;\">\n",
       "      <th></th>\n",
       "      <th>Sl. No</th>\n",
       "      <th>Patient File No.</th>\n",
       "      <th>PCOS (Y/N)</th>\n",
       "      <th>Age (yrs)</th>\n",
       "      <th>Weight (Kg)</th>\n",
       "      <th>Height(Cm)</th>\n",
       "      <th>BMI</th>\n",
       "      <th>Blood Group</th>\n",
       "      <th>Pulse rate(bpm)</th>\n",
       "      <th>RR (breaths/min)</th>\n",
       "      <th>...</th>\n",
       "      <th>Pimples(Y/N)</th>\n",
       "      <th>Fast food (Y/N)</th>\n",
       "      <th>Reg.Exercise(Y/N)</th>\n",
       "      <th>BP _Systolic (mmHg)</th>\n",
       "      <th>BP _Diastolic (mmHg)</th>\n",
       "      <th>Follicle No. (L)</th>\n",
       "      <th>Follicle No. (R)</th>\n",
       "      <th>Avg. F size (L) (mm)</th>\n",
       "      <th>Avg. F size (R) (mm)</th>\n",
       "      <th>Endometrium (mm)</th>\n",
       "    </tr>\n",
       "  </thead>\n",
       "  <tbody>\n",
       "    <tr>\n",
       "      <th>0</th>\n",
       "      <td>1</td>\n",
       "      <td>1</td>\n",
       "      <td>0</td>\n",
       "      <td>28</td>\n",
       "      <td>44.6</td>\n",
       "      <td>152.0</td>\n",
       "      <td>19.304017</td>\n",
       "      <td>15</td>\n",
       "      <td>78</td>\n",
       "      <td>22</td>\n",
       "      <td>...</td>\n",
       "      <td>0</td>\n",
       "      <td>1</td>\n",
       "      <td>0</td>\n",
       "      <td>110</td>\n",
       "      <td>80</td>\n",
       "      <td>3</td>\n",
       "      <td>3</td>\n",
       "      <td>18.0</td>\n",
       "      <td>18.0</td>\n",
       "      <td>8.5</td>\n",
       "    </tr>\n",
       "    <tr>\n",
       "      <th>1</th>\n",
       "      <td>2</td>\n",
       "      <td>2</td>\n",
       "      <td>0</td>\n",
       "      <td>36</td>\n",
       "      <td>65.0</td>\n",
       "      <td>161.5</td>\n",
       "      <td>24.921163</td>\n",
       "      <td>15</td>\n",
       "      <td>74</td>\n",
       "      <td>20</td>\n",
       "      <td>...</td>\n",
       "      <td>0</td>\n",
       "      <td>0</td>\n",
       "      <td>0</td>\n",
       "      <td>120</td>\n",
       "      <td>70</td>\n",
       "      <td>3</td>\n",
       "      <td>5</td>\n",
       "      <td>15.0</td>\n",
       "      <td>14.0</td>\n",
       "      <td>3.7</td>\n",
       "    </tr>\n",
       "    <tr>\n",
       "      <th>3</th>\n",
       "      <td>4</td>\n",
       "      <td>4</td>\n",
       "      <td>0</td>\n",
       "      <td>37</td>\n",
       "      <td>65.0</td>\n",
       "      <td>148.0</td>\n",
       "      <td>29.674945</td>\n",
       "      <td>13</td>\n",
       "      <td>72</td>\n",
       "      <td>20</td>\n",
       "      <td>...</td>\n",
       "      <td>0</td>\n",
       "      <td>0</td>\n",
       "      <td>0</td>\n",
       "      <td>120</td>\n",
       "      <td>70</td>\n",
       "      <td>2</td>\n",
       "      <td>2</td>\n",
       "      <td>15.0</td>\n",
       "      <td>14.0</td>\n",
       "      <td>7.5</td>\n",
       "    </tr>\n",
       "    <tr>\n",
       "      <th>4</th>\n",
       "      <td>5</td>\n",
       "      <td>5</td>\n",
       "      <td>0</td>\n",
       "      <td>25</td>\n",
       "      <td>52.0</td>\n",
       "      <td>161.0</td>\n",
       "      <td>20.060954</td>\n",
       "      <td>11</td>\n",
       "      <td>72</td>\n",
       "      <td>18</td>\n",
       "      <td>...</td>\n",
       "      <td>0</td>\n",
       "      <td>0</td>\n",
       "      <td>0</td>\n",
       "      <td>120</td>\n",
       "      <td>80</td>\n",
       "      <td>3</td>\n",
       "      <td>4</td>\n",
       "      <td>16.0</td>\n",
       "      <td>14.0</td>\n",
       "      <td>7.0</td>\n",
       "    </tr>\n",
       "    <tr>\n",
       "      <th>5</th>\n",
       "      <td>6</td>\n",
       "      <td>6</td>\n",
       "      <td>0</td>\n",
       "      <td>36</td>\n",
       "      <td>74.1</td>\n",
       "      <td>165.0</td>\n",
       "      <td>27.217631</td>\n",
       "      <td>15</td>\n",
       "      <td>78</td>\n",
       "      <td>28</td>\n",
       "      <td>...</td>\n",
       "      <td>0</td>\n",
       "      <td>0</td>\n",
       "      <td>0</td>\n",
       "      <td>110</td>\n",
       "      <td>70</td>\n",
       "      <td>9</td>\n",
       "      <td>6</td>\n",
       "      <td>16.0</td>\n",
       "      <td>20.0</td>\n",
       "      <td>8.0</td>\n",
       "    </tr>\n",
       "    <tr>\n",
       "      <th>...</th>\n",
       "      <td>...</td>\n",
       "      <td>...</td>\n",
       "      <td>...</td>\n",
       "      <td>...</td>\n",
       "      <td>...</td>\n",
       "      <td>...</td>\n",
       "      <td>...</td>\n",
       "      <td>...</td>\n",
       "      <td>...</td>\n",
       "      <td>...</td>\n",
       "      <td>...</td>\n",
       "      <td>...</td>\n",
       "      <td>...</td>\n",
       "      <td>...</td>\n",
       "      <td>...</td>\n",
       "      <td>...</td>\n",
       "      <td>...</td>\n",
       "      <td>...</td>\n",
       "      <td>...</td>\n",
       "      <td>...</td>\n",
       "      <td>...</td>\n",
       "    </tr>\n",
       "    <tr>\n",
       "      <th>212</th>\n",
       "      <td>214</td>\n",
       "      <td>214</td>\n",
       "      <td>1</td>\n",
       "      <td>26</td>\n",
       "      <td>70.0</td>\n",
       "      <td>150.0</td>\n",
       "      <td>31.111111</td>\n",
       "      <td>15</td>\n",
       "      <td>72</td>\n",
       "      <td>20</td>\n",
       "      <td>...</td>\n",
       "      <td>1</td>\n",
       "      <td>1</td>\n",
       "      <td>0</td>\n",
       "      <td>110</td>\n",
       "      <td>80</td>\n",
       "      <td>8</td>\n",
       "      <td>7</td>\n",
       "      <td>17.0</td>\n",
       "      <td>14.0</td>\n",
       "      <td>6.0</td>\n",
       "    </tr>\n",
       "    <tr>\n",
       "      <th>229</th>\n",
       "      <td>231</td>\n",
       "      <td>231</td>\n",
       "      <td>1</td>\n",
       "      <td>40</td>\n",
       "      <td>71.0</td>\n",
       "      <td>152.0</td>\n",
       "      <td>30.730609</td>\n",
       "      <td>15</td>\n",
       "      <td>72</td>\n",
       "      <td>18</td>\n",
       "      <td>...</td>\n",
       "      <td>0</td>\n",
       "      <td>1</td>\n",
       "      <td>0</td>\n",
       "      <td>120</td>\n",
       "      <td>80</td>\n",
       "      <td>4</td>\n",
       "      <td>2</td>\n",
       "      <td>17.0</td>\n",
       "      <td>10.0</td>\n",
       "      <td>12.0</td>\n",
       "    </tr>\n",
       "    <tr>\n",
       "      <th>124</th>\n",
       "      <td>125</td>\n",
       "      <td>125</td>\n",
       "      <td>1</td>\n",
       "      <td>26</td>\n",
       "      <td>78.0</td>\n",
       "      <td>159.0</td>\n",
       "      <td>30.853210</td>\n",
       "      <td>13</td>\n",
       "      <td>78</td>\n",
       "      <td>20</td>\n",
       "      <td>...</td>\n",
       "      <td>1</td>\n",
       "      <td>1</td>\n",
       "      <td>1</td>\n",
       "      <td>120</td>\n",
       "      <td>80</td>\n",
       "      <td>8</td>\n",
       "      <td>10</td>\n",
       "      <td>16.0</td>\n",
       "      <td>18.0</td>\n",
       "      <td>8.5</td>\n",
       "    </tr>\n",
       "    <tr>\n",
       "      <th>113</th>\n",
       "      <td>114</td>\n",
       "      <td>114</td>\n",
       "      <td>1</td>\n",
       "      <td>32</td>\n",
       "      <td>63.0</td>\n",
       "      <td>164.0</td>\n",
       "      <td>23.423557</td>\n",
       "      <td>17</td>\n",
       "      <td>72</td>\n",
       "      <td>18</td>\n",
       "      <td>...</td>\n",
       "      <td>1</td>\n",
       "      <td>1</td>\n",
       "      <td>1</td>\n",
       "      <td>110</td>\n",
       "      <td>80</td>\n",
       "      <td>5</td>\n",
       "      <td>6</td>\n",
       "      <td>18.0</td>\n",
       "      <td>21.0</td>\n",
       "      <td>9.0</td>\n",
       "    </tr>\n",
       "    <tr>\n",
       "      <th>152</th>\n",
       "      <td>153</td>\n",
       "      <td>153</td>\n",
       "      <td>1</td>\n",
       "      <td>31</td>\n",
       "      <td>60.0</td>\n",
       "      <td>156.0</td>\n",
       "      <td>24.654832</td>\n",
       "      <td>13</td>\n",
       "      <td>72</td>\n",
       "      <td>18</td>\n",
       "      <td>...</td>\n",
       "      <td>1</td>\n",
       "      <td>1</td>\n",
       "      <td>0</td>\n",
       "      <td>110</td>\n",
       "      <td>80</td>\n",
       "      <td>7</td>\n",
       "      <td>5</td>\n",
       "      <td>15.0</td>\n",
       "      <td>16.0</td>\n",
       "      <td>8.5</td>\n",
       "    </tr>\n",
       "  </tbody>\n",
       "</table>\n",
       "<p>654 rows × 44 columns</p>\n",
       "</div>"
      ],
      "text/plain": [
       "     Sl. No  Patient File No.  PCOS (Y/N)   Age (yrs)  Weight (Kg)  \\\n",
       "0         1                 1           0          28         44.6   \n",
       "1         2                 2           0          36         65.0   \n",
       "3         4                 4           0          37         65.0   \n",
       "4         5                 5           0          25         52.0   \n",
       "5         6                 6           0          36         74.1   \n",
       "..      ...               ...         ...         ...          ...   \n",
       "212     214               214           1          26         70.0   \n",
       "229     231               231           1          40         71.0   \n",
       "124     125               125           1          26         78.0   \n",
       "113     114               114           1          32         63.0   \n",
       "152     153               153           1          31         60.0   \n",
       "\n",
       "     Height(Cm)         BMI  Blood Group  Pulse rate(bpm)   RR (breaths/min)  \\\n",
       "0          152.0  19.304017           15                78                22   \n",
       "1          161.5  24.921163           15                74                20   \n",
       "3          148.0  29.674945           13                72                20   \n",
       "4          161.0  20.060954           11                72                18   \n",
       "5          165.0  27.217631           15                78                28   \n",
       "..           ...        ...          ...               ...               ...   \n",
       "212        150.0  31.111111           15                72                20   \n",
       "229        152.0  30.730609           15                72                18   \n",
       "124        159.0  30.853210           13                78                20   \n",
       "113        164.0  23.423557           17                72                18   \n",
       "152        156.0  24.654832           13                72                18   \n",
       "\n",
       "     ...  Pimples(Y/N)  Fast food (Y/N)  Reg.Exercise(Y/N)  \\\n",
       "0    ...             0                1                  0   \n",
       "1    ...             0                0                  0   \n",
       "3    ...             0                0                  0   \n",
       "4    ...             0                0                  0   \n",
       "5    ...             0                0                  0   \n",
       "..   ...           ...              ...                ...   \n",
       "212  ...             1                1                  0   \n",
       "229  ...             0                1                  0   \n",
       "124  ...             1                1                  1   \n",
       "113  ...             1                1                  1   \n",
       "152  ...             1                1                  0   \n",
       "\n",
       "     BP _Systolic (mmHg)  BP _Diastolic (mmHg)  Follicle No. (L)  \\\n",
       "0                    110                    80                 3   \n",
       "1                    120                    70                 3   \n",
       "3                    120                    70                 2   \n",
       "4                    120                    80                 3   \n",
       "5                    110                    70                 9   \n",
       "..                   ...                   ...               ...   \n",
       "212                  110                    80                 8   \n",
       "229                  120                    80                 4   \n",
       "124                  120                    80                 8   \n",
       "113                  110                    80                 5   \n",
       "152                  110                    80                 7   \n",
       "\n",
       "     Follicle No. (R)  Avg. F size (L) (mm)  Avg. F size (R) (mm)  \\\n",
       "0                   3                  18.0                  18.0   \n",
       "1                   5                  15.0                  14.0   \n",
       "3                   2                  15.0                  14.0   \n",
       "4                   4                  16.0                  14.0   \n",
       "5                   6                  16.0                  20.0   \n",
       "..                ...                   ...                   ...   \n",
       "212                 7                  17.0                  14.0   \n",
       "229                 2                  17.0                  10.0   \n",
       "124                10                  16.0                  18.0   \n",
       "113                 6                  18.0                  21.0   \n",
       "152                 5                  15.0                  16.0   \n",
       "\n",
       "     Endometrium (mm)  \n",
       "0                 8.5  \n",
       "1                 3.7  \n",
       "3                 7.5  \n",
       "4                 7.0  \n",
       "5                 8.0  \n",
       "..                ...  \n",
       "212               6.0  \n",
       "229              12.0  \n",
       "124               8.5  \n",
       "113               9.0  \n",
       "152               8.5  \n",
       "\n",
       "[654 rows x 44 columns]"
      ]
     },
     "execution_count": 15,
     "metadata": {},
     "output_type": "execute_result"
    }
   ],
   "source": [
    "df_upsampled"
   ]
  },
  {
   "cell_type": "code",
   "execution_count": 16,
   "id": "93f99770",
   "metadata": {},
   "outputs": [],
   "source": [
    "df_up=df_upsampled.sample(frac=1)"
   ]
  },
  {
   "cell_type": "code",
   "execution_count": 17,
   "id": "b4bac7c6",
   "metadata": {},
   "outputs": [
    {
     "data": {
      "text/plain": [
       "1    362\n",
       "0    292\n",
       "Name: PCOS (Y/N), dtype: int64"
      ]
     },
     "execution_count": 17,
     "metadata": {},
     "output_type": "execute_result"
    }
   ],
   "source": [
    "df_up['PCOS (Y/N)'].value_counts()"
   ]
  },
  {
   "cell_type": "code",
   "execution_count": 18,
   "id": "223d0c1a",
   "metadata": {},
   "outputs": [
    {
     "data": {
      "text/plain": [
       "((654, 43), (538, 43), (654,), (538,))"
      ]
     },
     "execution_count": 18,
     "metadata": {},
     "output_type": "execute_result"
    }
   ],
   "source": [
    "# Dividing the dataset into two part one having only the target value and other having all other columns\n",
    "X_up = df_up.drop('PCOS (Y/N)', axis=1)\n",
    "Y_up = df_up['PCOS (Y/N)']\n",
    "\n",
    "X_up.shape, X_test.shape,Y_up.shape, Y_test.shape"
   ]
  },
  {
   "cell_type": "code",
   "execution_count": 19,
   "id": "503cc76a",
   "metadata": {},
   "outputs": [
    {
     "name": "stdout",
     "output_type": "stream",
     "text": [
      "accuracy_score :  0.912639405204461\n",
      "precision_score :  0.8177339901477833\n",
      "recall_score :  0.9431818181818182\n",
      "f1_score :  0.8759894459102903\n",
      "              precision    recall  f1-score   support\n",
      "\n",
      "     class 0       0.97      0.90      0.93       362\n",
      "     class 1       0.82      0.94      0.88       176\n",
      "\n",
      "    accuracy                           0.91       538\n",
      "   macro avg       0.89      0.92      0.90       538\n",
      "weighted avg       0.92      0.91      0.91       538\n",
      "\n"
     ]
    },
    {
     "data": {
      "text/plain": [
       "array([[325,  10],\n",
       "       [ 37, 166]], dtype=int64)"
      ]
     },
     "execution_count": 19,
     "metadata": {},
     "output_type": "execute_result"
    }
   ],
   "source": [
    "X_up=X_up.drop(['Sl. No', 'Patient File No.'],axis=1)\n",
    "X_test=X_test.drop(['Sl. No', 'Patient File No.'],axis=1)\n",
    "#X_test=X_test.drop('Patient File No.', axis=1)\n",
    "\n",
    "from sklearn.linear_model import LogisticRegression\n",
    "logistic_model = LogisticRegression(penalty='l2', C=1.0, solver='liblinear').fit(X_up,Y_up)\n",
    "y_pred = logistic_model.predict(X_test)\n",
    "\n",
    "acc = accuracy_score(Y_test, y_pred)\n",
    "prec = precision_score(Y_test, y_pred)\n",
    "recall = recall_score(Y_test, y_pred)\n",
    "f1 = f1_score(Y_test, y_pred)\n",
    "print(\"accuracy_score : \", acc)\n",
    "print(\"precision_score : \", prec)\n",
    "print(\"recall_score : \", recall)\n",
    "print(\"f1_score : \", f1)\n",
    "\n",
    "target_names = ['class 0', 'class 1']\n",
    "print(classification_report(Y_test, y_pred, target_names=target_names))\n",
    "cf_matrix=confusion_matrix(y_pred,Y_test)\n",
    "cf_matrix"
   ]
  },
  {
   "cell_type": "markdown",
   "id": "fb741503",
   "metadata": {},
   "source": [
    "# Downsample"
   ]
  },
  {
   "cell_type": "markdown",
   "id": "c03187fd",
   "metadata": {},
   "source": [
    "**Downsampling on the dataset is done for decreasing the size of the majority class in the dataset.**"
   ]
  },
  {
   "cell_type": "code",
   "execution_count": 20,
   "id": "c3850840",
   "metadata": {},
   "outputs": [],
   "source": [
    "df_majority_downsampled = resample(df_majority, \n",
    "                                 replace=True,    # sample without replacement\n",
    "                                 n_samples=138,     # to match minority class\n",
    "                                 random_state=123) # reproducible results\n",
    " \n",
    "# Combine minority class with downsampled majority class\n",
    "df_downsampled = pd.concat([df_majority_downsampled, df_minority])"
   ]
  },
  {
   "cell_type": "code",
   "execution_count": 21,
   "id": "f35969df",
   "metadata": {},
   "outputs": [],
   "source": [
    "df_down=df_downsampled.sample(frac=1)"
   ]
  },
  {
   "cell_type": "code",
   "execution_count": 22,
   "id": "8c8cc7f7",
   "metadata": {},
   "outputs": [
    {
     "data": {
      "text/plain": [
       "0    138\n",
       "1    138\n",
       "Name: PCOS (Y/N), dtype: int64"
      ]
     },
     "execution_count": 22,
     "metadata": {},
     "output_type": "execute_result"
    }
   ],
   "source": [
    "df_down['PCOS (Y/N)'].value_counts()"
   ]
  },
  {
   "cell_type": "code",
   "execution_count": 23,
   "id": "bf37dd80",
   "metadata": {},
   "outputs": [
    {
     "data": {
      "text/plain": [
       "((276, 43), (538, 41), (276,), (538,))"
      ]
     },
     "execution_count": 23,
     "metadata": {},
     "output_type": "execute_result"
    }
   ],
   "source": [
    "# Dividing the dataset into two part one having onlty the target value and other having all other columns\n",
    "X_down = df_down.drop('PCOS (Y/N)', axis=1)\n",
    "Y_down= df_down['PCOS (Y/N)']\n",
    "\n",
    "X_down.shape, X_test.shape,Y_down.shape, Y_test.shape"
   ]
  },
  {
   "cell_type": "code",
   "execution_count": 24,
   "id": "c0ef5aee",
   "metadata": {},
   "outputs": [
    {
     "name": "stdout",
     "output_type": "stream",
     "text": [
      "accuracy_score :  0.8847583643122676\n",
      "precision_score :  0.7688679245283019\n",
      "recall_score :  0.9261363636363636\n",
      "f1_score :  0.8402061855670104\n",
      "              precision    recall  f1-score   support\n",
      "\n",
      "     class 0       0.96      0.86      0.91       362\n",
      "     class 1       0.77      0.93      0.84       176\n",
      "\n",
      "    accuracy                           0.88       538\n",
      "   macro avg       0.86      0.90      0.88       538\n",
      "weighted avg       0.90      0.88      0.89       538\n",
      "\n"
     ]
    },
    {
     "data": {
      "text/plain": [
       "array([[313,  13],\n",
       "       [ 49, 163]], dtype=int64)"
      ]
     },
     "execution_count": 24,
     "metadata": {},
     "output_type": "execute_result"
    }
   ],
   "source": [
    "#X_down=X_down.drop('Patient File No.', axis=1)\n",
    "#X_test=X_test.drop('Patient File No.', axis=1)\n",
    "X_down=X_down.drop(['Sl. No', 'Patient File No.'], axis=1)\n",
    "\n",
    "from sklearn.linear_model import LogisticRegression\n",
    "logistic_model = LogisticRegression(penalty='l2', C=1.0, solver='liblinear').fit(X_down, Y_down)\n",
    "y_pred = logistic_model.predict(X_test)\n",
    "\n",
    "acc = accuracy_score(Y_test, y_pred)\n",
    "prec = precision_score(Y_test, y_pred)\n",
    "recall = recall_score(Y_test, y_pred)\n",
    "f1 = f1_score(Y_test, y_pred)\n",
    "print(\"accuracy_score : \", acc)\n",
    "print(\"precision_score : \", prec)\n",
    "print(\"recall_score : \", recall)\n",
    "print(\"f1_score : \", f1)\n",
    "\n",
    "target_names = ['class 0', 'class 1']\n",
    "print(classification_report(Y_test, y_pred, target_names=target_names))\n",
    "cf_matrix=confusion_matrix(y_pred, Y_test)\n",
    "cf_matrix"
   ]
  },
  {
   "cell_type": "markdown",
   "id": "0e87ac9e",
   "metadata": {},
   "source": [
    "# SMOTE\n",
    "\n",
    "SMOTE stands for Synthetic Minority Oversampling Technique. This is a statistical technique for increasing the number of cases in your dataset in a balanced way. The module works by generating new instances from existing minority cases that you supply as input."
   ]
  },
  {
   "cell_type": "code",
   "execution_count": 25,
   "id": "bc728d0a",
   "metadata": {},
   "outputs": [
    {
     "data": {
      "text/plain": [
       "0    292\n",
       "1    138\n",
       "Name: PCOS (Y/N), dtype: int64"
      ]
     },
     "execution_count": 25,
     "metadata": {},
     "output_type": "execute_result"
    }
   ],
   "source": [
    "df_train['PCOS (Y/N)'].value_counts()"
   ]
  },
  {
   "cell_type": "code",
   "execution_count": 26,
   "id": "8e5e6f36",
   "metadata": {},
   "outputs": [
    {
     "data": {
      "text/plain": [
       "((430, 41), (430,))"
      ]
     },
     "execution_count": 26,
     "metadata": {},
     "output_type": "execute_result"
    }
   ],
   "source": [
    "X_train_smote=df_train.drop(['Sl. No', 'Patient File No.','PCOS (Y/N)'],axis=1)\n",
    "Y_train_smote=df_train['PCOS (Y/N)']\n",
    "X_train_smote.shape,Y_train_smote.shape"
   ]
  },
  {
   "cell_type": "code",
   "execution_count": 27,
   "id": "0969782a",
   "metadata": {},
   "outputs": [
    {
     "name": "stdout",
     "output_type": "stream",
     "text": [
      "Requirement already satisfied: imbalanced-learn in c:\\users\\hp\\anaconda3\\lib\\site-packages (0.11.0)\n",
      "Requirement already satisfied: scikit-learn in c:\\users\\hp\\anaconda3\\lib\\site-packages (1.3.0)\n",
      "Requirement already satisfied: numpy>=1.17.3 in c:\\users\\hp\\anaconda3\\lib\\site-packages (from imbalanced-learn) (1.24.3)\n",
      "Requirement already satisfied: scipy>=1.5.0 in c:\\users\\hp\\anaconda3\\lib\\site-packages (from imbalanced-learn) (1.10.1)\n",
      "Requirement already satisfied: joblib>=1.1.1 in c:\\users\\hp\\anaconda3\\lib\\site-packages (from imbalanced-learn) (1.2.0)\n",
      "Requirement already satisfied: threadpoolctl>=2.0.0 in c:\\users\\hp\\anaconda3\\lib\\site-packages (from imbalanced-learn) (2.2.0)\n",
      "Note: you may need to restart the kernel to use updated packages.\n"
     ]
    }
   ],
   "source": [
    "pip install --upgrade imbalanced-learn scikit-learn"
   ]
  },
  {
   "cell_type": "code",
   "execution_count": 28,
   "id": "3fb72a08",
   "metadata": {},
   "outputs": [],
   "source": [
    "from imblearn.over_sampling import SMOTE\n",
    "sm = SMOTE(random_state = 2)\n",
    "X_train_res, y_train_res = sm.fit_resample(X_train_smote, Y_train_smote.ravel())"
   ]
  },
  {
   "cell_type": "code",
   "execution_count": 29,
   "id": "8be1b8ab",
   "metadata": {},
   "outputs": [
    {
     "data": {
      "text/plain": [
       "((584, 41), (584,))"
      ]
     },
     "execution_count": 29,
     "metadata": {},
     "output_type": "execute_result"
    }
   ],
   "source": [
    "X_train_res.shape, y_train_res.shape"
   ]
  },
  {
   "cell_type": "code",
   "execution_count": 30,
   "id": "dba70cee",
   "metadata": {},
   "outputs": [
    {
     "data": {
      "text/plain": [
       "(292, 292)"
      ]
     },
     "execution_count": 30,
     "metadata": {},
     "output_type": "execute_result"
    }
   ],
   "source": [
    "len(y_train_res[y_train_res==0]),len(y_train_res[y_train_res==1])"
   ]
  },
  {
   "cell_type": "code",
   "execution_count": 31,
   "id": "35c996d4",
   "metadata": {},
   "outputs": [
    {
     "name": "stdout",
     "output_type": "stream",
     "text": [
      "accuracy_score :  0.8828996282527881\n",
      "precision_score :  0.775609756097561\n",
      "recall_score :  0.9034090909090909\n",
      "f1_score :  0.8346456692913385\n",
      "              precision    recall  f1-score   support\n",
      "\n",
      "     class 0       0.95      0.87      0.91       362\n",
      "     class 1       0.78      0.90      0.83       176\n",
      "\n",
      "    accuracy                           0.88       538\n",
      "   macro avg       0.86      0.89      0.87       538\n",
      "weighted avg       0.89      0.88      0.88       538\n",
      "\n"
     ]
    },
    {
     "data": {
      "text/plain": [
       "array([[316,  17],\n",
       "       [ 46, 159]], dtype=int64)"
      ]
     },
     "execution_count": 31,
     "metadata": {},
     "output_type": "execute_result"
    }
   ],
   "source": [
    "from sklearn.linear_model import LogisticRegression\n",
    "logistic_model = LogisticRegression(penalty='l2', C=1.0, solver='liblinear').fit(X_train_res, y_train_res)\n",
    "y_pred = logistic_model.predict(X_test)\n",
    "\n",
    "acc = accuracy_score(Y_test, y_pred)\n",
    "prec = precision_score(Y_test, y_pred)\n",
    "recall = recall_score(Y_test, y_pred)\n",
    "f1 = f1_score(Y_test, y_pred)\n",
    "print(\"accuracy_score : \", acc)\n",
    "print(\"precision_score : \", prec)\n",
    "print(\"recall_score : \", recall)\n",
    "print(\"f1_score : \", f1)\n",
    "\n",
    "target_names = ['class 0', 'class 1']\n",
    "print(classification_report(Y_test, y_pred, target_names=target_names))\n",
    "cf_matrix=confusion_matrix(y_pred, Y_test)\n",
    "cf_matrix"
   ]
  },
  {
   "cell_type": "markdown",
   "id": "2b9858d4",
   "metadata": {},
   "source": [
    "# ADASYN"
   ]
  },
  {
   "cell_type": "markdown",
   "id": "9645d8c6",
   "metadata": {},
   "source": [
    "ADASYN is based on the idea of adaptively generating minority data samples according to their distributions: more synthetic data is generated for minority class samples that are harder to learn compared to those minority samples that are easier to learn."
   ]
  },
  {
   "cell_type": "code",
   "execution_count": 32,
   "id": "22cbb4b6",
   "metadata": {},
   "outputs": [
    {
     "data": {
      "text/plain": [
       "((430, 41), (430,))"
      ]
     },
     "execution_count": 32,
     "metadata": {},
     "output_type": "execute_result"
    }
   ],
   "source": [
    "X_train_adas=df_train.drop(['Sl. No', 'Patient File No.','PCOS (Y/N)'],axis=1)\n",
    "Y_train_adas=df_train['PCOS (Y/N)']\n",
    "X_train_adas.shape,Y_train_adas.shape"
   ]
  },
  {
   "cell_type": "code",
   "execution_count": 33,
   "id": "f473cf6e",
   "metadata": {},
   "outputs": [],
   "source": [
    "from imblearn.over_sampling import ADASYN\n",
    "sm = ADASYN(random_state = 2)\n",
    "X_train_ada, y_train_ada = sm.fit_resample(X_train_adas, Y_train_adas.ravel())"
   ]
  },
  {
   "cell_type": "code",
   "execution_count": 34,
   "id": "4ee723ea",
   "metadata": {},
   "outputs": [
    {
     "data": {
      "text/plain": [
       "((576, 41), (576,))"
      ]
     },
     "execution_count": 34,
     "metadata": {},
     "output_type": "execute_result"
    }
   ],
   "source": [
    "X_train_ada.shape, y_train_ada.shape\n"
   ]
  },
  {
   "cell_type": "code",
   "execution_count": 35,
   "id": "9059b6b0",
   "metadata": {},
   "outputs": [
    {
     "data": {
      "text/plain": [
       "(292, 284)"
      ]
     },
     "execution_count": 35,
     "metadata": {},
     "output_type": "execute_result"
    }
   ],
   "source": [
    "len(y_train_ada[y_train_ada==0]),len(y_train_ada[y_train_ada==1])\n"
   ]
  },
  {
   "cell_type": "code",
   "execution_count": 36,
   "id": "91f99ae1",
   "metadata": {},
   "outputs": [
    {
     "name": "stdout",
     "output_type": "stream",
     "text": [
      "accuracy_score :  0.8494423791821561\n",
      "precision_score :  0.7130044843049327\n",
      "recall_score :  0.9034090909090909\n",
      "f1_score :  0.7969924812030075\n",
      "              precision    recall  f1-score   support\n",
      "\n",
      "     class 0       0.95      0.82      0.88       362\n",
      "     class 1       0.71      0.90      0.80       176\n",
      "\n",
      "    accuracy                           0.85       538\n",
      "   macro avg       0.83      0.86      0.84       538\n",
      "weighted avg       0.87      0.85      0.85       538\n",
      "\n"
     ]
    },
    {
     "name": "stderr",
     "output_type": "stream",
     "text": [
      "C:\\Users\\HP\\anaconda3\\Lib\\site-packages\\sklearn\\svm\\_base.py:1242: ConvergenceWarning: Liblinear failed to converge, increase the number of iterations.\n",
      "  warnings.warn(\n"
     ]
    },
    {
     "data": {
      "text/plain": [
       "array([[298,  17],\n",
       "       [ 64, 159]], dtype=int64)"
      ]
     },
     "execution_count": 36,
     "metadata": {},
     "output_type": "execute_result"
    }
   ],
   "source": [
    "from sklearn.linear_model import LogisticRegression\n",
    "logistic_model = LogisticRegression(penalty='l2', C=1.0, solver='liblinear').fit(X_train_ada, y_train_ada)\n",
    "y_pred = logistic_model.predict(X_test)\n",
    "\n",
    "acc = accuracy_score(Y_test, y_pred)\n",
    "prec = precision_score(Y_test, y_pred)\n",
    "recall = recall_score(Y_test, y_pred)\n",
    "f1 = f1_score(Y_test, y_pred)\n",
    "print(\"accuracy_score : \", acc)\n",
    "print(\"precision_score : \", prec)\n",
    "print(\"recall_score : \", recall)\n",
    "print(\"f1_score : \", f1)\n",
    "\n",
    "target_names = ['class 0', 'class 1']\n",
    "print(classification_report(Y_test, y_pred, target_names=target_names))\n",
    "cf_matrix=confusion_matrix(y_pred, Y_test)\n",
    "cf_matrix"
   ]
  },
  {
   "cell_type": "markdown",
   "id": "3af249b1",
   "metadata": {},
   "source": [
    "# SMOTE + ENN"
   ]
  },
  {
   "cell_type": "markdown",
   "id": "781048eb",
   "metadata": {},
   "source": [
    "SMOTE + ENN is another hybrid technique where more no. of observations are removed from the sample space. Here, ENN is yet another undersampling technique where the nearest neighbors of each of the majority class is estimated. If the nearest neighbors misclassify that particular instance of the majority class, then that instance gets deleted. Integrating this technique with oversampled data done by SMOTE helps in doing extensive data cleaning. Here on misclassification by NN’s samples from both the classes are removed. This results in a more clear and concise class separation."
   ]
  },
  {
   "cell_type": "code",
   "execution_count": 37,
   "id": "a9281a08",
   "metadata": {},
   "outputs": [
    {
     "data": {
      "text/plain": [
       "((430, 41), (430,))"
      ]
     },
     "execution_count": 37,
     "metadata": {},
     "output_type": "execute_result"
    }
   ],
   "source": [
    "X_train_se=df_train.drop(['Sl. No', 'Patient File No.','PCOS (Y/N)'],axis=1)\n",
    "Y_train_se=df_train['PCOS (Y/N)']\n",
    "X_train_se.shape,Y_train_se.shape"
   ]
  },
  {
   "cell_type": "code",
   "execution_count": 38,
   "id": "51421668",
   "metadata": {},
   "outputs": [],
   "source": [
    "from imblearn.combine import SMOTEENN\n",
    "sm = SMOTEENN(random_state = 2)\n",
    "X_train_sen, y_train_sen = sm.fit_resample(X_train_se, Y_train_se.ravel())"
   ]
  },
  {
   "cell_type": "code",
   "execution_count": 39,
   "id": "21dd3645",
   "metadata": {},
   "outputs": [
    {
     "data": {
      "text/plain": [
       "((264, 41), (264,))"
      ]
     },
     "execution_count": 39,
     "metadata": {},
     "output_type": "execute_result"
    }
   ],
   "source": [
    "X_train_sen.shape,y_train_sen.shape"
   ]
  },
  {
   "cell_type": "code",
   "execution_count": 40,
   "id": "61da6969",
   "metadata": {},
   "outputs": [
    {
     "name": "stdout",
     "output_type": "stream",
     "text": [
      "accuracy_score :  0.8197026022304833\n",
      "precision_score :  0.6549019607843137\n",
      "recall_score :  0.9488636363636364\n",
      "f1_score :  0.7749419953596288\n",
      "              precision    recall  f1-score   support\n",
      "\n",
      "     class 0       0.97      0.76      0.85       362\n",
      "     class 1       0.65      0.95      0.77       176\n",
      "\n",
      "    accuracy                           0.82       538\n",
      "   macro avg       0.81      0.85      0.81       538\n",
      "weighted avg       0.87      0.82      0.83       538\n",
      "\n"
     ]
    },
    {
     "data": {
      "text/plain": [
       "array([[274,   9],\n",
       "       [ 88, 167]], dtype=int64)"
      ]
     },
     "execution_count": 40,
     "metadata": {},
     "output_type": "execute_result"
    }
   ],
   "source": [
    "from sklearn.linear_model import LogisticRegression\n",
    "logistic_model = LogisticRegression(penalty='l2', C=1.0, solver='liblinear').fit(X_train_sen, y_train_sen)\n",
    "y_pred = logistic_model.predict(X_test)\n",
    "\n",
    "acc = accuracy_score(Y_test, y_pred)\n",
    "prec = precision_score(Y_test, y_pred)\n",
    "recall = recall_score(Y_test, y_pred)\n",
    "f1 = f1_score(Y_test, y_pred)\n",
    "print(\"accuracy_score : \", acc)\n",
    "print(\"precision_score : \", prec)\n",
    "print(\"recall_score : \", recall)\n",
    "print(\"f1_score : \", f1)\n",
    "\n",
    "target_names = ['class 0', 'class 1']\n",
    "print(classification_report(Y_test, y_pred, target_names=target_names))\n",
    "cf_matrix=confusion_matrix(y_pred, Y_test)\n",
    "cf_matrix"
   ]
  }
 ],
 "metadata": {
  "kernelspec": {
   "display_name": "Python 3 (ipykernel)",
   "language": "python",
   "name": "python3"
  },
  "language_info": {
   "codemirror_mode": {
    "name": "ipython",
    "version": 3
   },
   "file_extension": ".py",
   "mimetype": "text/x-python",
   "name": "python",
   "nbconvert_exporter": "python",
   "pygments_lexer": "ipython3",
   "version": "3.11.4"
  }
 },
 "nbformat": 4,
 "nbformat_minor": 5
}
